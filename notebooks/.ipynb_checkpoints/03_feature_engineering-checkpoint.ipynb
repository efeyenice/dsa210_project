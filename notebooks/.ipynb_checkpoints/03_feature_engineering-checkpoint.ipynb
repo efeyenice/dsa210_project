{
 "cells": [
  {
   "cell_type": "markdown",
   "metadata": {},
   "source": [
    "# NBA Game Feature Engineering\n",
    "\n",
    "This notebook focuses on creating and transforming features for our NBA game prediction model.\n"
   ]
  },
  {
   "cell_type": "markdown",
   "metadata": {},
   "source": [
    "## 1. Import Libraries\n",
    "Import all necessary libraries."
   ]
  },
  {
   "cell_type": "code",
   "execution_count": null,
   "metadata": {},
   "source": [
    "import pandas as pd\n",
    "import numpy as np\n",
    "from tqdm import tqdm\n",
    "\n",
    "pd.set_option('display.max_columns', None)\n",
    "pd.set_option('display.max_rows', 100)"
   ]
  },
  {
   "cell_type": "markdown",
   "metadata": {},
   "source": [
    "## 2. Load Enriched Data\n",
    "Load the enriched data from the previous step."
   ]
  },
  {
   "cell_type": "code",
   "execution_count": null,
   "metadata": {},
   "source": [
    "games_df = pd.read_csv('../data/enriched/enriched_games.csv')\n",
    "print(f'Loaded {len(games_df)} games')\n",
    "games_df.head()"
   ]
  },
  {
   "cell_type": "markdown",
   "metadata": {},
   "source": [
    "## 3. Team Efficiency Metrics\n",
    "Calculate Offensive Rating, Defensive Rating, Net Rating, and Pace."
   ]
  },
  {
   "cell_type": "code",
   "execution_count": null,
   "metadata": {},
   "source": [
    "# Example: Calculate Net Rating (OffRtg - DefRtg)\n",
    "if 'OFF_RATING' in games_df.columns and 'DEF_RATING' in games_df.columns:\n",
    "    games_df['NET_RATING'] = games_df['OFF_RATING'] - games_df['DEF_RATING']\n",
    "    print('Net Rating calculated.')\n",
    "else:\n",
    "    print('OFF_RATING and DEF_RATING columns not found.')"
   ]
  },
  {
   "cell_type": "markdown",
   "metadata": {},
   "source": [
    "## 4. Player Impact Metrics\n",
    "(Optional, if player-level data is available)\n",
    "Calculate Player Efficiency Rating (PER), Win Shares, Plus/Minus, etc."
   ]
  },
  {
   "cell_type": "code",
   "execution_count": null,
   "metadata": {},
   "source": [
    "# Placeholder: Add player impact metrics if available\n",
    "# games_df['PLAYER_IMPACT'] = ...\n",
    "print('Add player impact metrics here if available.')"
   ]
  },
  {
   "cell_type": "markdown",
   "metadata": {},
   "source": [
    "## 5. Momentum Indicators\n",
    "Calculate win/loss streaks and recent performance."
   ]
  },
  {
   "cell_type": "code",
   "execution_count": null,
   "metadata": {},
   "source": [
    "# Example: Calculate win streaks for each team\n",
    "games_df = games_df.sort_values(['TEAM_ID', 'GAME_DATE'])\n",
    "games_df['WIN'] = (games_df['WL'] == 'W').astype(int)\n",
    "games_df['WIN_STREAK'] = games_df.groupby('TEAM_ID')['WIN'].cumsum()\n",
    "print('Win streaks calculated.')"
   ]
  },
  {
   "cell_type": "markdown",
   "metadata": {},
   "source": [
    "## 6. Strength of Schedule\n",
    "Calculate opponent win percentage, home/away distribution, and rest day impact."
   ]
  },
  {
   "cell_type": "code",
   "execution_count": null,
   "metadata": {},
   "source": [
    "# Placeholder: Calculate strength of schedule metrics\n",
    "# games_df['OPP_WIN_PCT'] = ...\n",
    "print('Add strength of schedule metrics here.')"
   ]
  },
  {
   "cell_type": "markdown",
   "metadata": {},
   "source": [
    "## 7. Save Engineered Data\n",
    "Save the engineered data for the next step."
   ]
  },
  {
   "cell_type": "code",
   "execution_count": null,
   "metadata": {},
   "source": [
    "games_df.to_csv('../data/engineered/engineered_games.csv', index=False)\n",
    "print('Engineered data saved to ../data/engineered/engineered_games.csv')"
   ]
  }
 ],
 "metadata": {
  "kernelspec": {
   "display_name": "Python 3",
   "language": "python",
   "name": "python3"
  },
  "language_info": {
   "codemirror_mode": {
    "name": "ipython",
    "version": 3
   },
   "file_extension": ".py",
   "mimetype": "text/x-python",
   "name": "python",
   "nbconvert_exporter": "python",
   "pygments_lexer": "ipython3",
   "version": "3.8.0"
  }
 },
 "nbformat": 4,
 "nbformat_minor": 4
}