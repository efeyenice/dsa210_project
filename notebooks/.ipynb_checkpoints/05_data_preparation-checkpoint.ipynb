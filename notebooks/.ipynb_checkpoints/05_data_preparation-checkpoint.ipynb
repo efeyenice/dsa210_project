{
 "cells": [
  {
   "cell_type": "markdown",
   "metadata": {},
   "source": [
    "# NBA Game Prediction - Data Preparation\n",
    "\n",
    "This notebook focuses on preparing our data for machine learning model development. We'll:\n",
    "1. Load the transformed data\n",
    "2. Define our target variable\n",
    "3. Select relevant features\n",
    "4. Split the data into training and testing sets"
   ]
  },
  {
   "cell_type": "markdown",
   "metadata": {},
   "source": [
    "## 1. Import Libraries\n",
    "Import all necessary libraries for data preparation and machine learning."
   ]
  },
  {
   "cell_type": "code",
   "execution_count": null,
   "metadata": {},
   "source": [
    "import pandas as pd\n",
    "import numpy as np\n",
    "from sklearn.model_selection import train_test_split\n",
    "from sklearn.preprocessing import LabelEncoder\n",
    "import matplotlib.pyplot as plt\n",
    "import seaborn as sns\n",
    "\n",
    "# Set display options\n",
    "pd.set_option('display.max_columns', None)\n",
    "pd.set_option('display.max_rows', 100)\n",
    "\n",
    "# Set plot style\n",
    "plt.style.use('seaborn')\n",
    "sns.set_palette('husl')"
   ]
  },
  {
   "cell_type": "markdown",
   "metadata": {},
   "source": [
    "## 2. Load Transformed Data\n",
    "Load the final processed data from the transformation step."
   ]
  },
  {
   "cell_type": "code",
   "execution_count": null,
   "metadata": {},
   "source": [
    "# Load the transformed data\n",
    "df = pd.read_csv('../data/transformed/transformed_games.csv')\n",
    "print(f'Loaded {len(df)} games')\n",
    "df.head()"
   ]
  },
  {
   "cell_type": "markdown",
   "metadata": {},
   "source": [
    "## 3. Define Target Variable\n",
    "Create our target variable (game outcome: win/loss)."
   ]
  },
  {
   "cell_type": "code",
   "execution_count": null,
   "metadata": {},
   "source": [
    "# Create target variable (1 for win, 0 for loss)\n",
    "df['TARGET'] = (df['WL'] == 'W').astype(int)\n",
    "\n",
    "# Display target distribution\n",
    "print('Target variable distribution:')\n",
    "print(df['TARGET'].value_counts(normalize=True))"
   ]
  },
  {
   "cell_type": "markdown",
   "metadata": {},
   "source": [
    "## 4. Feature Selection\n",
    "Select relevant features for prediction. We'll focus on:\n",
    "- Team efficiency metrics\n",
    "- Momentum indicators\n",
    "- Strength of schedule metrics\n",
    "- Rolling averages"
   ]
  },
  {
   "cell_type": "code",
   "execution_count": null,
   "metadata": {},
   "source": [
    "# Define feature columns (adjust based on your actual column names)\n",
    "feature_columns = [\n",
    "    'NET_RATING',\n",
    "    'OFF_RATING',\n",
    "    'DEF_RATING',\n",
    "    'PACE',\n",
    "    'WIN_STREAK',\n",
    "    'ROLL_WIN_PCT_5',\n",
    "    'ROLL_WIN_PCT_10',\n",
    "    'REST_DAYS',\n",
    "    'IS_BACK_TO_BACK'\n",
    "]\n",
    "\n",
    "# Create feature matrix X and target vector y\n",
    "X = df[feature_columns]\n",
    "y = df['TARGET']\n",
    "\n",
    "print('Feature matrix shape:', X.shape)\n",
    "print('\\nFeature columns:')\n",
    "print(X.columns.tolist())"
   ]
  },
  {
   "cell_type": "markdown",
   "metadata": {},
   "source": [
    "## 5. Split Data into Training and Testing Sets\n",
    "Split the data into training (80%) and testing (20%) sets."
   ]
  },
  {
   "cell_type": "code",
   "execution_count": null,
   "metadata": {},
   "source": [
    "# Split the data\n",
    "X_train, X_test, y_train, y_test = train_test_split(\n",
    "    X, y, test_size=0.2, random_state=42, stratify=y\n",
    ")\n",
    "\n",
    "print('Training set shape:', X_train.shape)\n",
    "print('Testing set shape:', X_test.shape)\n",
    "\n",
    "# Save the prepared data\n",
    "X_train.to_csv('../data/processed/X_train.csv', index=False)\n",
    "X_test.to_csv('../data/processed/X_test.csv', index=False)\n",
    "y_train.to_csv('../data/processed/y_train.csv', index=False)\n",
    "y_test.to_csv('../data/processed/y_test.csv', index=False)\n",
    "\n",
    "print('\\nPrepared data saved to ../data/processed/')"
   ]
  },
  {
   "cell_type": "markdown",
   "metadata": {},
   "source": [
    "## 6. Feature Analysis\n",
    "Analyze the relationship between features and the target variable."
   ]
  },
  {
   "cell_type": "code",
   "execution_count": null,
   "metadata": {},
   "source": [
    "# Calculate correlation with target\n",
    "correlations = X_train.corrwith(y_train).sort_values(ascending=False)\n",
    "\n",
    "# Plot feature correlations\n",
    "plt.figure(figsize=(10, 6))\n",
    "correlations.plot(kind='bar')\n",
    "plt.title('Feature Correlations with Target Variable')\n",
    "plt.xticks(rotation=45)\n",
    "plt.tight_layout()\n",
    "plt.show()"
   ]
  }
 ],
 "metadata": {
  "kernelspec": {
   "display_name": "Python 3",
   "language": "python",
   "name": "python3"
  },
  "language_info": {
   "codemirror_mode": {
    "name": "ipython",
    "version": 3
   },
   "file_extension": ".py",
   "mimetype": "text/x-python",
   "name": "python",
   "nbconvert_exporter": "python",
   "pygments_lexer": "ipython3",
   "version": "3.8.0"
  }
 },
 "nbformat": 4,
 "nbformat_minor": 4
}