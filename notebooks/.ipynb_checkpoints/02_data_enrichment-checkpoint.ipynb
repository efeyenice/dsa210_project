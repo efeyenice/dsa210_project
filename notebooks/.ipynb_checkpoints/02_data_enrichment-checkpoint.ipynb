{
 "cells": [
  {
   "cell_type": "markdown",
   "metadata": {},
   "source": [
    "# NBA Game Data Enrichment\n",
    "\n",
    "This notebook focuses on enriching our NBA game data with additional features that will help improve our prediction models.\n",
    "\n",
    "## Features to Add:\n",
    "\n",
    "### Team-level Features\n",
    "- Home/Away performance metrics\n",
    "- Rest days between games\n",
    "- Travel distance between games\n",
    "- Back-to-back game indicators\n",
    "- Season-to-date performance metrics\n",
    "- Head-to-head historical performance\n",
    "\n",
    "### Player-level Features\n",
    "- Player availability (injuries, rest)\n",
    "- Player performance trends\n",
    "- Key player matchups\n",
    "- Team depth metrics\n",
    "- Player fatigue indicators\n",
    "\n",
    "### External Factors\n",
    "- Weather conditions (for travel)\n",
    "- Team motivation factors (playoff implications)\n",
    "- Historical rivalry data\n",
    "- Betting odds and line movements"
   ]
  },
  {
   "cell_type": "code",
   "execution_count": null,
   "metadata": {},
   "source": [
    "# Import necessary libraries\n",
    "import pandas as pd\n",
    "import numpy as np\n",
    "from nba_api.stats.endpoints import leaguegamefinder, playergamelog, teamgamelog\n",
    "from nba_api.stats.static import teams\n",
    "import requests\n",
    "from datetime import datetime, timedelta\n",
    "import time\n",
    "from tqdm import tqdm\n",
    "\n",
    "# Set display options\n",
    "pd.set_option('display.max_columns', None)\n",
    "pd.set_option('display.max_rows', 100)"
   ]
  },
  {
   "cell_type": "markdown",
   "metadata": {},
   "source": [
    "## 1. Load Existing Data\n",
    "First, let's load the data we collected in the previous notebook."
   ]
  },
  {
   "cell_type": "code",
   "execution_count": null,
   "metadata": {},
   "source": [
    "# Load the existing game data\n",
    "games_df = pd.read_csv('../data/games.csv')\n",
    "print(f\"Loaded {len(games_df)} games\")\n",
    "games_df.head()"
   ]
  }
 ],
 "metadata": {
  "kernelspec": {
   "display_name": "Python 3",
   "language": "python",
   "name": "python3"
  },
  "language_info": {
   "codemirror_mode": {
    "name": "ipython",
    "version": 3
   },
   "file_extension": ".py",
   "mimetype": "text/x-python",
   "name": "python",
   "nbconvert_exporter": "python",
   "pygments_lexer": "ipython3",
   "version": "3.8.0"
  }
 },
 "nbformat": 4,
 "nbformat_minor": 4
}