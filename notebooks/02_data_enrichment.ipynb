{
 "cells": [
  {
   "cell_type": "markdown",
   "metadata": {},
   "source": [
    "# NBA Game Data Enrichment\n",
    "\n",
    "This notebook focuses on enriching our NBA game data with additional features that will help improve our prediction models.\n"
   ]
  },
  {
   "cell_type": "markdown",
   "metadata": {},
   "source": [
    "## 1. Import Libraries\n",
    "Import all necessary libraries."
   ]
  },
  {
   "cell_type": "code",
   "execution_count": 1,
   "metadata": {},
   "outputs": [],
   "source": [
    "import pandas as pd\n",
    "import numpy as np\n",
    "from nba_api.stats.endpoints import leaguegamefinder, playergamelog, teamgamelog\n",
    "from nba_api.stats.static import teams\n",
    "import requests\n",
    "from datetime import datetime, timedelta\n",
    "import time\n",
    "from tqdm import tqdm\n",
    "\n",
    "pd.set_option('display.max_columns', None)\n",
    "pd.set_option('display.max_rows', 100)"
   ]
  },
  {
   "cell_type": "markdown",
   "metadata": {},
   "source": [
    "## 2. Load Raw Game Data\n",
    "Load the raw NBA game data."
   ]
  },
  {
   "cell_type": "code",
   "execution_count": 2,
   "metadata": {},
   "outputs": [
    {
     "name": "stdout",
     "output_type": "stream",
     "text": [
      "Loaded 5585 games\n"
     ]
    },
    {
     "data": {
      "text/html": [
       "<div>\n",
       "<style scoped>\n",
       "    .dataframe tbody tr th:only-of-type {\n",
       "        vertical-align: middle;\n",
       "    }\n",
       "\n",
       "    .dataframe tbody tr th {\n",
       "        vertical-align: top;\n",
       "    }\n",
       "\n",
       "    .dataframe thead th {\n",
       "        text-align: right;\n",
       "    }\n",
       "</style>\n",
       "<table border=\"1\" class=\"dataframe\">\n",
       "  <thead>\n",
       "    <tr style=\"text-align: right;\">\n",
       "      <th></th>\n",
       "      <th>SEASON_ID</th>\n",
       "      <th>TEAM_ID</th>\n",
       "      <th>TEAM_ABBREVIATION</th>\n",
       "      <th>TEAM_NAME</th>\n",
       "      <th>GAME_ID</th>\n",
       "      <th>GAME_DATE</th>\n",
       "      <th>MATCHUP</th>\n",
       "      <th>WL</th>\n",
       "      <th>MIN</th>\n",
       "      <th>PTS</th>\n",
       "      <th>FGM</th>\n",
       "      <th>FGA</th>\n",
       "      <th>FG_PCT</th>\n",
       "      <th>FG3M</th>\n",
       "      <th>FG3A</th>\n",
       "      <th>FG3_PCT</th>\n",
       "      <th>FTM</th>\n",
       "      <th>FTA</th>\n",
       "      <th>FT_PCT</th>\n",
       "      <th>OREB</th>\n",
       "      <th>DREB</th>\n",
       "      <th>REB</th>\n",
       "      <th>AST</th>\n",
       "      <th>STL</th>\n",
       "      <th>BLK</th>\n",
       "      <th>TOV</th>\n",
       "      <th>PF</th>\n",
       "      <th>PLUS_MINUS</th>\n",
       "    </tr>\n",
       "  </thead>\n",
       "  <tbody>\n",
       "    <tr>\n",
       "      <th>0</th>\n",
       "      <td>12022</td>\n",
       "      <td>1610612746</td>\n",
       "      <td>LAC</td>\n",
       "      <td>LA Clippers</td>\n",
       "      <td>12200002</td>\n",
       "      <td>2022-09-30</td>\n",
       "      <td>LAC vs. MRA</td>\n",
       "      <td>W</td>\n",
       "      <td>242</td>\n",
       "      <td>121</td>\n",
       "      <td>39</td>\n",
       "      <td>77</td>\n",
       "      <td>0.506</td>\n",
       "      <td>13</td>\n",
       "      <td>29</td>\n",
       "      <td>0.448</td>\n",
       "      <td>30</td>\n",
       "      <td>43</td>\n",
       "      <td>0.698</td>\n",
       "      <td>15</td>\n",
       "      <td>40</td>\n",
       "      <td>55</td>\n",
       "      <td>27</td>\n",
       "      <td>9</td>\n",
       "      <td>6</td>\n",
       "      <td>23</td>\n",
       "      <td>23</td>\n",
       "      <td>44.2</td>\n",
       "    </tr>\n",
       "    <tr>\n",
       "      <th>1</th>\n",
       "      <td>12022</td>\n",
       "      <td>1610612764</td>\n",
       "      <td>WAS</td>\n",
       "      <td>Washington Wizards</td>\n",
       "      <td>12200001</td>\n",
       "      <td>2022-09-30</td>\n",
       "      <td>WAS vs. GSW</td>\n",
       "      <td>L</td>\n",
       "      <td>240</td>\n",
       "      <td>87</td>\n",
       "      <td>31</td>\n",
       "      <td>84</td>\n",
       "      <td>0.369</td>\n",
       "      <td>6</td>\n",
       "      <td>35</td>\n",
       "      <td>0.171</td>\n",
       "      <td>19</td>\n",
       "      <td>30</td>\n",
       "      <td>0.633</td>\n",
       "      <td>7</td>\n",
       "      <td>37</td>\n",
       "      <td>44</td>\n",
       "      <td>20</td>\n",
       "      <td>12</td>\n",
       "      <td>10</td>\n",
       "      <td>14</td>\n",
       "      <td>27</td>\n",
       "      <td>-9.0</td>\n",
       "    </tr>\n",
       "    <tr>\n",
       "      <th>2</th>\n",
       "      <td>12022</td>\n",
       "      <td>50009</td>\n",
       "      <td>MRA</td>\n",
       "      <td>Ra'anana Maccabi Ra'anana</td>\n",
       "      <td>12200002</td>\n",
       "      <td>2022-09-30</td>\n",
       "      <td>MRA @ LAC</td>\n",
       "      <td>L</td>\n",
       "      <td>240</td>\n",
       "      <td>81</td>\n",
       "      <td>28</td>\n",
       "      <td>85</td>\n",
       "      <td>0.329</td>\n",
       "      <td>3</td>\n",
       "      <td>16</td>\n",
       "      <td>0.188</td>\n",
       "      <td>22</td>\n",
       "      <td>31</td>\n",
       "      <td>0.710</td>\n",
       "      <td>13</td>\n",
       "      <td>25</td>\n",
       "      <td>38</td>\n",
       "      <td>16</td>\n",
       "      <td>14</td>\n",
       "      <td>5</td>\n",
       "      <td>16</td>\n",
       "      <td>34</td>\n",
       "      <td>-43.2</td>\n",
       "    </tr>\n",
       "    <tr>\n",
       "      <th>3</th>\n",
       "      <td>12022</td>\n",
       "      <td>1610612744</td>\n",
       "      <td>GSW</td>\n",
       "      <td>Golden State Warriors</td>\n",
       "      <td>12200001</td>\n",
       "      <td>2022-09-30</td>\n",
       "      <td>GSW @ WAS</td>\n",
       "      <td>W</td>\n",
       "      <td>239</td>\n",
       "      <td>96</td>\n",
       "      <td>29</td>\n",
       "      <td>79</td>\n",
       "      <td>0.367</td>\n",
       "      <td>7</td>\n",
       "      <td>26</td>\n",
       "      <td>0.269</td>\n",
       "      <td>31</td>\n",
       "      <td>40</td>\n",
       "      <td>0.775</td>\n",
       "      <td>10</td>\n",
       "      <td>52</td>\n",
       "      <td>62</td>\n",
       "      <td>18</td>\n",
       "      <td>6</td>\n",
       "      <td>3</td>\n",
       "      <td>17</td>\n",
       "      <td>27</td>\n",
       "      <td>9.0</td>\n",
       "    </tr>\n",
       "    <tr>\n",
       "      <th>4</th>\n",
       "      <td>12022</td>\n",
       "      <td>1610612763</td>\n",
       "      <td>MEM</td>\n",
       "      <td>Memphis Grizzlies</td>\n",
       "      <td>12200003</td>\n",
       "      <td>2022-10-01</td>\n",
       "      <td>MEM @ MIL</td>\n",
       "      <td>W</td>\n",
       "      <td>239</td>\n",
       "      <td>107</td>\n",
       "      <td>38</td>\n",
       "      <td>77</td>\n",
       "      <td>0.494</td>\n",
       "      <td>10</td>\n",
       "      <td>28</td>\n",
       "      <td>0.357</td>\n",
       "      <td>21</td>\n",
       "      <td>29</td>\n",
       "      <td>0.724</td>\n",
       "      <td>10</td>\n",
       "      <td>31</td>\n",
       "      <td>41</td>\n",
       "      <td>25</td>\n",
       "      <td>13</td>\n",
       "      <td>4</td>\n",
       "      <td>22</td>\n",
       "      <td>19</td>\n",
       "      <td>5.0</td>\n",
       "    </tr>\n",
       "  </tbody>\n",
       "</table>\n",
       "</div>"
      ],
      "text/plain": [
       "   SEASON_ID     TEAM_ID TEAM_ABBREVIATION                  TEAM_NAME  \\\n",
       "0      12022  1610612746               LAC                LA Clippers   \n",
       "1      12022  1610612764               WAS         Washington Wizards   \n",
       "2      12022       50009               MRA  Ra'anana Maccabi Ra'anana   \n",
       "3      12022  1610612744               GSW      Golden State Warriors   \n",
       "4      12022  1610612763               MEM          Memphis Grizzlies   \n",
       "\n",
       "    GAME_ID   GAME_DATE      MATCHUP WL  MIN  PTS  FGM  FGA  FG_PCT  FG3M  \\\n",
       "0  12200002  2022-09-30  LAC vs. MRA  W  242  121   39   77   0.506    13   \n",
       "1  12200001  2022-09-30  WAS vs. GSW  L  240   87   31   84   0.369     6   \n",
       "2  12200002  2022-09-30    MRA @ LAC  L  240   81   28   85   0.329     3   \n",
       "3  12200001  2022-09-30    GSW @ WAS  W  239   96   29   79   0.367     7   \n",
       "4  12200003  2022-10-01    MEM @ MIL  W  239  107   38   77   0.494    10   \n",
       "\n",
       "   FG3A  FG3_PCT  FTM  FTA  FT_PCT  OREB  DREB  REB  AST  STL  BLK  TOV  PF  \\\n",
       "0    29    0.448   30   43   0.698    15    40   55   27    9    6   23  23   \n",
       "1    35    0.171   19   30   0.633     7    37   44   20   12   10   14  27   \n",
       "2    16    0.188   22   31   0.710    13    25   38   16   14    5   16  34   \n",
       "3    26    0.269   31   40   0.775    10    52   62   18    6    3   17  27   \n",
       "4    28    0.357   21   29   0.724    10    31   41   25   13    4   22  19   \n",
       "\n",
       "   PLUS_MINUS  \n",
       "0        44.2  \n",
       "1        -9.0  \n",
       "2       -43.2  \n",
       "3         9.0  \n",
       "4         5.0  "
      ]
     },
     "execution_count": 2,
     "metadata": {},
     "output_type": "execute_result"
    }
   ],
   "source": [
    "games_df = pd.read_csv('../data/raw/games.csv')\n",
    "print(f'Loaded {len(games_df)} games')\n",
    "games_df.head()"
   ]
  },
  {
   "cell_type": "markdown",
   "metadata": {},
   "source": [
    "## 3. Calculate Rest Days\n",
    "Add a column for rest days between games for each team."
   ]
  },
  {
   "cell_type": "code",
   "execution_count": 3,
   "metadata": {},
   "outputs": [
    {
     "name": "stdout",
     "output_type": "stream",
     "text": [
      "Rest days calculated.\n"
     ]
    }
   ],
   "source": [
    "games_df = games_df.sort_values(['TEAM_ID', 'GAME_DATE'])\n",
    "games_df['GAME_DATE'] = pd.to_datetime(games_df['GAME_DATE'])\n",
    "games_df['PREV_GAME_DATE'] = games_df.groupby('TEAM_ID')['GAME_DATE'].shift(1)\n",
    "games_df['REST_DAYS'] = (games_df['GAME_DATE'] - games_df['PREV_GAME_DATE']).dt.days\n",
    "print('Rest days calculated.')"
   ]
  },
  {
   "cell_type": "markdown",
   "metadata": {},
   "source": [
    "## 4. Add Back-to-Back Game Indicator\n",
    "Add a column indicating if a game is part of a back-to-back."
   ]
  },
  {
   "cell_type": "code",
   "execution_count": 4,
   "metadata": {},
   "outputs": [
    {
     "name": "stdout",
     "output_type": "stream",
     "text": [
      "Back-to-back indicator added.\n"
     ]
    }
   ],
   "source": [
    "games_df['IS_BACK_TO_BACK'] = games_df['REST_DAYS'] == 1\n",
    "print('Back-to-back indicator added.')"
   ]
  },
  {
   "cell_type": "markdown",
   "metadata": {},
   "source": [
    "## 5. Calculate Rolling Team Performance Metrics\n",
    "Add rolling averages for team performance over the last 5 and 10 games."
   ]
  },
  {
   "cell_type": "code",
   "execution_count": 5,
   "metadata": {},
   "outputs": [
    {
     "ename": "KeyError",
     "evalue": "'Column not found: WIN'",
     "output_type": "error",
     "traceback": [
      "\u001b[0;31m---------------------------------------------------------------------------\u001b[0m",
      "\u001b[0;31mKeyError\u001b[0m                                  Traceback (most recent call last)",
      "Cell \u001b[0;32mIn[5], line 2\u001b[0m\n\u001b[1;32m      1\u001b[0m \u001b[38;5;28;01mfor\u001b[39;00m window \u001b[38;5;129;01min\u001b[39;00m [\u001b[38;5;241m5\u001b[39m, \u001b[38;5;241m10\u001b[39m]:\n\u001b[0;32m----> 2\u001b[0m     games_df[\u001b[38;5;124mf\u001b[39m\u001b[38;5;124m'\u001b[39m\u001b[38;5;124mROLL_WIN_PCT_\u001b[39m\u001b[38;5;132;01m{\u001b[39;00mwindow\u001b[38;5;132;01m}\u001b[39;00m\u001b[38;5;124m'\u001b[39m] \u001b[38;5;241m=\u001b[39m games_df\u001b[38;5;241m.\u001b[39mgroupby(\u001b[38;5;124m'\u001b[39m\u001b[38;5;124mTEAM_ID\u001b[39m\u001b[38;5;124m'\u001b[39m)[\u001b[38;5;124m'\u001b[39m\u001b[38;5;124mWIN\u001b[39m\u001b[38;5;124m'\u001b[39m]\u001b[38;5;241m.\u001b[39mrolling(window, min_periods\u001b[38;5;241m=\u001b[39m\u001b[38;5;241m1\u001b[39m)\u001b[38;5;241m.\u001b[39mmean()\u001b[38;5;241m.\u001b[39mreset_index(\u001b[38;5;241m0\u001b[39m, drop\u001b[38;5;241m=\u001b[39m\u001b[38;5;28;01mTrue\u001b[39;00m)\n\u001b[1;32m      3\u001b[0m \u001b[38;5;28mprint\u001b[39m(\u001b[38;5;124m'\u001b[39m\u001b[38;5;124mRolling win percentages calculated.\u001b[39m\u001b[38;5;124m'\u001b[39m)\n",
      "File \u001b[0;32m/opt/miniconda3/lib/python3.12/site-packages/pandas/core/groupby/generic.py:1964\u001b[0m, in \u001b[0;36mDataFrameGroupBy.__getitem__\u001b[0;34m(self, key)\u001b[0m\n\u001b[1;32m   1957\u001b[0m \u001b[38;5;28;01mif\u001b[39;00m \u001b[38;5;28misinstance\u001b[39m(key, \u001b[38;5;28mtuple\u001b[39m) \u001b[38;5;129;01mand\u001b[39;00m \u001b[38;5;28mlen\u001b[39m(key) \u001b[38;5;241m>\u001b[39m \u001b[38;5;241m1\u001b[39m:\n\u001b[1;32m   1958\u001b[0m     \u001b[38;5;66;03m# if len == 1, then it becomes a SeriesGroupBy and this is actually\u001b[39;00m\n\u001b[1;32m   1959\u001b[0m     \u001b[38;5;66;03m# valid syntax, so don't raise\u001b[39;00m\n\u001b[1;32m   1960\u001b[0m     \u001b[38;5;28;01mraise\u001b[39;00m \u001b[38;5;167;01mValueError\u001b[39;00m(\n\u001b[1;32m   1961\u001b[0m         \u001b[38;5;124m\"\u001b[39m\u001b[38;5;124mCannot subset columns with a tuple with more than one element. \u001b[39m\u001b[38;5;124m\"\u001b[39m\n\u001b[1;32m   1962\u001b[0m         \u001b[38;5;124m\"\u001b[39m\u001b[38;5;124mUse a list instead.\u001b[39m\u001b[38;5;124m\"\u001b[39m\n\u001b[1;32m   1963\u001b[0m     )\n\u001b[0;32m-> 1964\u001b[0m \u001b[38;5;28;01mreturn\u001b[39;00m \u001b[38;5;28msuper\u001b[39m()\u001b[38;5;241m.\u001b[39m\u001b[38;5;21m__getitem__\u001b[39m(key)\n",
      "File \u001b[0;32m/opt/miniconda3/lib/python3.12/site-packages/pandas/core/base.py:244\u001b[0m, in \u001b[0;36mSelectionMixin.__getitem__\u001b[0;34m(self, key)\u001b[0m\n\u001b[1;32m    242\u001b[0m \u001b[38;5;28;01melse\u001b[39;00m:\n\u001b[1;32m    243\u001b[0m     \u001b[38;5;28;01mif\u001b[39;00m key \u001b[38;5;129;01mnot\u001b[39;00m \u001b[38;5;129;01min\u001b[39;00m \u001b[38;5;28mself\u001b[39m\u001b[38;5;241m.\u001b[39mobj:\n\u001b[0;32m--> 244\u001b[0m         \u001b[38;5;28;01mraise\u001b[39;00m \u001b[38;5;167;01mKeyError\u001b[39;00m(\u001b[38;5;124mf\u001b[39m\u001b[38;5;124m\"\u001b[39m\u001b[38;5;124mColumn not found: \u001b[39m\u001b[38;5;132;01m{\u001b[39;00mkey\u001b[38;5;132;01m}\u001b[39;00m\u001b[38;5;124m\"\u001b[39m)\n\u001b[1;32m    245\u001b[0m     ndim \u001b[38;5;241m=\u001b[39m \u001b[38;5;28mself\u001b[39m\u001b[38;5;241m.\u001b[39mobj[key]\u001b[38;5;241m.\u001b[39mndim\n\u001b[1;32m    246\u001b[0m     \u001b[38;5;28;01mreturn\u001b[39;00m \u001b[38;5;28mself\u001b[39m\u001b[38;5;241m.\u001b[39m_gotitem(key, ndim\u001b[38;5;241m=\u001b[39mndim)\n",
      "\u001b[0;31mKeyError\u001b[0m: 'Column not found: WIN'"
     ]
    }
   ],
   "source": [
    "for window in [5, 10]:\n",
    "    games_df[f'ROLL_WIN_PCT_{window}'] = games_df.groupby('TEAM_ID')['WIN'].rolling(window, min_periods=1).mean().reset_index(0, drop=True)\n",
    "print('Rolling win percentages calculated.')"
   ]
  },
  {
   "cell_type": "markdown",
   "metadata": {},
   "source": [
    "## 6. Save Enriched Data\n",
    "Save the enriched data for the next step."
   ]
  },
  {
   "cell_type": "code",
   "execution_count": 6,
   "metadata": {},
   "outputs": [
    {
     "name": "stdout",
     "output_type": "stream",
     "text": [
      "Enriched data saved to ../data/enriched/enriched_games.csv\n"
     ]
    }
   ],
   "source": [
    "games_df.to_csv('../data/enriched/enriched_games.csv', index=False)\n",
    "print('Enriched data saved to ../data/enriched/enriched_games.csv')"
   ]
  },
  {
   "cell_type": "code",
   "execution_count": null,
   "metadata": {},
   "outputs": [],
   "source": []
  }
 ],
 "metadata": {
  "kernelspec": {
   "display_name": "Python 3 (ipykernel)",
   "language": "python",
   "name": "python3"
  },
  "language_info": {
   "codemirror_mode": {
    "name": "ipython",
    "version": 3
   },
   "file_extension": ".py",
   "mimetype": "text/x-python",
   "name": "python",
   "nbconvert_exporter": "python",
   "pygments_lexer": "ipython3",
   "version": "3.12.8"
  }
 },
 "nbformat": 4,
 "nbformat_minor": 4
}
