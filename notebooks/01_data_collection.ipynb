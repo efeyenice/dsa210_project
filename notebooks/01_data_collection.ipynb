{
 "cells": [
  {
   "cell_type": "markdown",
   "id": "51777947",
   "metadata": {},
   "source": [
    "# NBA Data Collection\n",
    "\n",
    "This notebook collects NBA game data from the NBA API and saves it to CSV files."
   ]
  },
  {
   "cell_type": "code",
   "execution_count": null,
   "id": "945ae6e2",
   "metadata": {},
   "outputs": [],
   "source": [
    "# Import required libraries\n",
    "import pandas as pd\n",
    "from nba_api.stats.endpoints import leaguegamefinder, playergamelog, teamgamelog\n",
    "from nba_api.stats.static import teams, players\n",
    "import time\n",
    "from tqdm import tqdm\n",
    "import os"
   ]
  },
  {
   "cell_type": "code",
   "execution_count": null,
   "id": "0ad79745",
   "metadata": {},
   "outputs": [],
   "source": [
    "# Create data directory if it doesn't exist\n",
    "data_dir = '../data'\n",
    "os.makedirs(data_dir, exist_ok=True)"
   ]
  },
  {
   "cell_type": "code",
   "execution_count": null,
   "id": "72638f92",
   "metadata": {},
   "outputs": [],
   "source": [
    "# Get all NBA teams\n",
    "teams_df = pd.DataFrame(teams.get_teams())\n",
    "teams_df.to_csv(f'{data_dir}/teams.csv', index=False)\n",
    "teams_df.head()"
   ]
  },
  {
   "cell_type": "code",
   "execution_count": null,
   "id": "241edc6f",
   "metadata": {},
   "outputs": [],
   "source": [
    "# Define seasons to collect data for\n",
    "seasons = ['2022-23', '2023-24']"
   ]
  },
  {
   "cell_type": "code",
   "execution_count": null,
   "id": "8425c1e2",
   "metadata": {},
   "outputs": [],
   "source": [
    "# Function to get game logs for a season\n",
    "def get_game_logs(season):\n",
    "    try:\n",
    "        gamefinder = leaguegamefinder.LeagueGameFinder(\n",
    "            season_nullable=season,\n",
    "            league_id_nullable='00'  # NBA\n",
    "        )\n",
    "        games = gamefinder.get_data_frames()[0]\n",
    "        return games\n",
    "    except Exception as e:\n",
    "        print(f\"Error getting game logs for season {season}: {str(e)}\")\n",
    "        return None"
   ]
  },
  {
   "cell_type": "code",
   "execution_count": null,
   "id": "f8fb8e66",
   "metadata": {},
   "outputs": [],
   "source": [
    "# Collect and save game data for each season\n",
    "for season in tqdm(seasons, desc=\"Collecting season data\"):\n",
    "    games_df = get_game_logs(season)\n",
    "    if games_df is not None:\n",
    "        games_df.to_csv(f'{data_dir}/games_{season}.csv', index=False)\n",
    "        print(f\"Saved {len(games_df)} games for season {season}\")\n",
    "    time.sleep(1)  # Rate limiting"
   ]
  },
  {
   "cell_type": "code",
   "execution_count": null,
   "id": "6fd1e9a6",
   "metadata": {},
   "outputs": [],
   "source": [
    "# Function to get team game logs\n",
    "def get_team_game_logs(team_id, season):\n",
    "    try:\n",
    "        team_games = teamgamelog.TeamGameLog(\n",
    "            team_id=team_id,\n",
    "            season=season\n",
    "        )\n",
    "        return team_games.get_data_frames()[0]\n",
    "    except Exception as e:\n",
    "        print(f\"Error getting team game logs for team {team_id} season {season}: {str(e)}\")\n",
    "        return None"
   ]
  },
  {
   "cell_type": "code",
   "execution_count": null,
   "id": "87cbfbc8",
   "metadata": {},
   "outputs": [],
   "source": [
    "# Collect and save team game logs for each team and season\n",
    "for season in tqdm(seasons, desc=\"Collecting team data\"):\n",
    "    for _, team in teams_df.iterrows():\n",
    "        team_games = get_team_game_logs(team['id'], season)\n",
    "        if team_games is not None:\n",
    "            team_games.to_csv(f'{data_dir}/team_games_{team[\"abbreviation\"]}_{season}.csv', index=False)\n",
    "            print(f\"Saved {len(team_games)} games for team {team['abbreviation']} season {season}\")\n",
    "        time.sleep(0.6)  # Rate limiting"
   ]
  }
 ],
 "metadata": {},
 "nbformat": 4,
 "nbformat_minor": 5
}
