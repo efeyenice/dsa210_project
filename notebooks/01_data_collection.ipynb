{
 "cells": [
  {
   "cell_type": "markdown",
   "id": "51777947",
   "metadata": {},
   "source": [
    "# NBA Data Collection\n",
    "\n",
    "This notebook collects NBA game data from the NBA API and saves it to CSV files."
   ]
  },
  {
   "cell_type": "code",
   "execution_count": 1,
   "id": "945ae6e2",
   "metadata": {},
   "outputs": [],
   "source": [
    "# Import required libraries\n",
    "import pandas as pd\n",
    "from nba_api.stats.endpoints import leaguegamefinder, playergamelog, teamgamelog\n",
    "from nba_api.stats.static import teams, players\n",
    "import time\n",
    "from tqdm import tqdm\n",
    "import os"
   ]
  },
  {
   "cell_type": "code",
   "execution_count": 2,
   "id": "0ad79745",
   "metadata": {},
   "outputs": [],
   "source": [
    "# Create data directory if it doesn't exist\n",
    "data_dir = '../data'\n",
    "os.makedirs(data_dir, exist_ok=True)"
   ]
  },
  {
   "cell_type": "code",
   "execution_count": 3,
   "id": "72638f92",
   "metadata": {},
   "outputs": [
    {
     "data": {
      "text/html": [
       "<div>\n",
       "<style scoped>\n",
       "    .dataframe tbody tr th:only-of-type {\n",
       "        vertical-align: middle;\n",
       "    }\n",
       "\n",
       "    .dataframe tbody tr th {\n",
       "        vertical-align: top;\n",
       "    }\n",
       "\n",
       "    .dataframe thead th {\n",
       "        text-align: right;\n",
       "    }\n",
       "</style>\n",
       "<table border=\"1\" class=\"dataframe\">\n",
       "  <thead>\n",
       "    <tr style=\"text-align: right;\">\n",
       "      <th></th>\n",
       "      <th>id</th>\n",
       "      <th>full_name</th>\n",
       "      <th>abbreviation</th>\n",
       "      <th>nickname</th>\n",
       "      <th>city</th>\n",
       "      <th>state</th>\n",
       "      <th>year_founded</th>\n",
       "    </tr>\n",
       "  </thead>\n",
       "  <tbody>\n",
       "    <tr>\n",
       "      <th>0</th>\n",
       "      <td>1610612737</td>\n",
       "      <td>Atlanta Hawks</td>\n",
       "      <td>ATL</td>\n",
       "      <td>Hawks</td>\n",
       "      <td>Atlanta</td>\n",
       "      <td>Georgia</td>\n",
       "      <td>1949</td>\n",
       "    </tr>\n",
       "    <tr>\n",
       "      <th>1</th>\n",
       "      <td>1610612738</td>\n",
       "      <td>Boston Celtics</td>\n",
       "      <td>BOS</td>\n",
       "      <td>Celtics</td>\n",
       "      <td>Boston</td>\n",
       "      <td>Massachusetts</td>\n",
       "      <td>1946</td>\n",
       "    </tr>\n",
       "    <tr>\n",
       "      <th>2</th>\n",
       "      <td>1610612739</td>\n",
       "      <td>Cleveland Cavaliers</td>\n",
       "      <td>CLE</td>\n",
       "      <td>Cavaliers</td>\n",
       "      <td>Cleveland</td>\n",
       "      <td>Ohio</td>\n",
       "      <td>1970</td>\n",
       "    </tr>\n",
       "    <tr>\n",
       "      <th>3</th>\n",
       "      <td>1610612740</td>\n",
       "      <td>New Orleans Pelicans</td>\n",
       "      <td>NOP</td>\n",
       "      <td>Pelicans</td>\n",
       "      <td>New Orleans</td>\n",
       "      <td>Louisiana</td>\n",
       "      <td>2002</td>\n",
       "    </tr>\n",
       "    <tr>\n",
       "      <th>4</th>\n",
       "      <td>1610612741</td>\n",
       "      <td>Chicago Bulls</td>\n",
       "      <td>CHI</td>\n",
       "      <td>Bulls</td>\n",
       "      <td>Chicago</td>\n",
       "      <td>Illinois</td>\n",
       "      <td>1966</td>\n",
       "    </tr>\n",
       "  </tbody>\n",
       "</table>\n",
       "</div>"
      ],
      "text/plain": [
       "           id             full_name abbreviation   nickname         city  \\\n",
       "0  1610612737         Atlanta Hawks          ATL      Hawks      Atlanta   \n",
       "1  1610612738        Boston Celtics          BOS    Celtics       Boston   \n",
       "2  1610612739   Cleveland Cavaliers          CLE  Cavaliers    Cleveland   \n",
       "3  1610612740  New Orleans Pelicans          NOP   Pelicans  New Orleans   \n",
       "4  1610612741         Chicago Bulls          CHI      Bulls      Chicago   \n",
       "\n",
       "           state  year_founded  \n",
       "0        Georgia          1949  \n",
       "1  Massachusetts          1946  \n",
       "2           Ohio          1970  \n",
       "3      Louisiana          2002  \n",
       "4       Illinois          1966  "
      ]
     },
     "execution_count": 3,
     "metadata": {},
     "output_type": "execute_result"
    }
   ],
   "source": [
    "# Get all NBA teams\n",
    "teams_df = pd.DataFrame(teams.get_teams())\n",
    "teams_df.to_csv(f'{data_dir}/teams.csv', index=False)\n",
    "teams_df.head()"
   ]
  },
  {
   "cell_type": "code",
   "execution_count": 6,
   "id": "241edc6f",
   "metadata": {},
   "outputs": [],
   "source": [
    "# Define seasons to collect data for\n",
    "seasons = ['2022-23', '2023-24']"
   ]
  },
  {
   "cell_type": "code",
   "execution_count": 7,
   "id": "8425c1e2",
   "metadata": {},
   "outputs": [],
   "source": [
    "# Function to get game logs for a season\n",
    "def get_game_logs(season):\n",
    "    try:\n",
    "        gamefinder = leaguegamefinder.LeagueGameFinder(\n",
    "            season_nullable=season,\n",
    "            league_id_nullable='00'  # NBA\n",
    "        )\n",
    "        games = gamefinder.get_data_frames()[0]\n",
    "        return games\n",
    "    except Exception as e:\n",
    "        print(f\"Error getting game logs for season {season}: {str(e)}\")\n",
    "        return None"
   ]
  },
  {
   "cell_type": "code",
   "execution_count": 8,
   "id": "f8fb8e66",
   "metadata": {},
   "outputs": [
    {
     "name": "stderr",
     "output_type": "stream",
     "text": [
      "Collecting season data:   0%|                                                                                        | 0/2 [00:00<?, ?it/s]"
     ]
    },
    {
     "name": "stdout",
     "output_type": "stream",
     "text": [
      "Saved 2790 games for season 2022-23\n"
     ]
    },
    {
     "name": "stderr",
     "output_type": "stream",
     "text": [
      "Collecting season data:  50%|████████████████████████████████████████                                        | 1/2 [00:01<00:01,  1.36s/it]"
     ]
    },
    {
     "name": "stdout",
     "output_type": "stream",
     "text": [
      "Saved 2795 games for season 2023-24\n"
     ]
    },
    {
     "name": "stderr",
     "output_type": "stream",
     "text": [
      "Collecting season data: 100%|████████████████████████████████████████████████████████████████████████████████| 2/2 [00:02<00:00,  1.27s/it]\n"
     ]
    }
   ],
   "source": [
    "# Collect and save game data for each season\n",
    "for season in tqdm(seasons, desc=\"Collecting season data\"):\n",
    "    games_df = get_game_logs(season)\n",
    "    if games_df is not None:\n",
    "        games_df.to_csv(f'{data_dir}/games_{season}.csv', index=False)\n",
    "        print(f\"Saved {len(games_df)} games for season {season}\")\n",
    "    time.sleep(1)  # Rate limiting"
   ]
  },
  {
   "cell_type": "code",
   "execution_count": 9,
   "id": "6fd1e9a6",
   "metadata": {},
   "outputs": [],
   "source": [
    "# Function to get team game logs\n",
    "def get_team_game_logs(team_id, season):\n",
    "    try:\n",
    "        team_games = teamgamelog.TeamGameLog(\n",
    "            team_id=team_id,\n",
    "            season=season\n",
    "        )\n",
    "        return team_games.get_data_frames()[0]\n",
    "    except Exception as e:\n",
    "        print(f\"Error getting team game logs for team {team_id} season {season}: {str(e)}\")\n",
    "        return None"
   ]
  },
  {
   "cell_type": "code",
   "execution_count": 10,
   "id": "87cbfbc8",
   "metadata": {},
   "outputs": [
    {
     "name": "stderr",
     "output_type": "stream",
     "text": [
      "Collecting team data:   0%|                                                                                          | 0/2 [00:00<?, ?it/s]"
     ]
    },
    {
     "name": "stdout",
     "output_type": "stream",
     "text": [
      "Saved 82 games for team ATL season 2022-23\n",
      "Saved 82 games for team BOS season 2022-23\n",
      "Saved 82 games for team CLE season 2022-23\n",
      "Saved 82 games for team NOP season 2022-23\n",
      "Saved 82 games for team CHI season 2022-23\n",
      "Saved 82 games for team DAL season 2022-23\n",
      "Saved 82 games for team DEN season 2022-23\n",
      "Saved 82 games for team GSW season 2022-23\n",
      "Saved 82 games for team HOU season 2022-23\n",
      "Saved 82 games for team LAC season 2022-23\n",
      "Saved 82 games for team LAL season 2022-23\n",
      "Saved 82 games for team MIA season 2022-23\n",
      "Saved 82 games for team MIL season 2022-23\n",
      "Saved 82 games for team MIN season 2022-23\n",
      "Saved 82 games for team BKN season 2022-23\n",
      "Saved 82 games for team NYK season 2022-23\n",
      "Saved 82 games for team ORL season 2022-23\n",
      "Saved 82 games for team IND season 2022-23\n",
      "Saved 82 games for team PHI season 2022-23\n",
      "Saved 82 games for team PHX season 2022-23\n",
      "Saved 82 games for team POR season 2022-23\n",
      "Saved 82 games for team SAC season 2022-23\n",
      "Saved 82 games for team SAS season 2022-23\n",
      "Saved 82 games for team OKC season 2022-23\n",
      "Saved 82 games for team TOR season 2022-23\n",
      "Saved 82 games for team UTA season 2022-23\n",
      "Saved 82 games for team MEM season 2022-23\n",
      "Saved 82 games for team WAS season 2022-23\n",
      "Saved 82 games for team DET season 2022-23\n",
      "Saved 82 games for team CHA season 2022-23\n"
     ]
    },
    {
     "name": "stderr",
     "output_type": "stream",
     "text": [
      "Collecting team data:  50%|█████████████████████████████████████████                                         | 1/2 [00:24<00:24, 24.52s/it]"
     ]
    },
    {
     "name": "stdout",
     "output_type": "stream",
     "text": [
      "Saved 82 games for team ATL season 2023-24\n",
      "Saved 82 games for team BOS season 2023-24\n",
      "Saved 82 games for team CLE season 2023-24\n",
      "Saved 82 games for team NOP season 2023-24\n",
      "Saved 82 games for team CHI season 2023-24\n",
      "Saved 82 games for team DAL season 2023-24\n",
      "Saved 82 games for team DEN season 2023-24\n",
      "Saved 82 games for team GSW season 2023-24\n",
      "Saved 82 games for team HOU season 2023-24\n",
      "Saved 82 games for team LAC season 2023-24\n",
      "Saved 82 games for team LAL season 2023-24\n",
      "Saved 82 games for team MIA season 2023-24\n",
      "Saved 82 games for team MIL season 2023-24\n",
      "Saved 82 games for team MIN season 2023-24\n",
      "Saved 82 games for team BKN season 2023-24\n",
      "Saved 82 games for team NYK season 2023-24\n",
      "Saved 82 games for team ORL season 2023-24\n",
      "Saved 82 games for team IND season 2023-24\n",
      "Saved 82 games for team PHI season 2023-24\n",
      "Saved 82 games for team PHX season 2023-24\n",
      "Saved 82 games for team POR season 2023-24\n",
      "Saved 82 games for team SAC season 2023-24\n",
      "Saved 82 games for team SAS season 2023-24\n",
      "Saved 82 games for team OKC season 2023-24\n",
      "Saved 82 games for team TOR season 2023-24\n",
      "Saved 82 games for team UTA season 2023-24\n",
      "Saved 82 games for team MEM season 2023-24\n",
      "Saved 82 games for team WAS season 2023-24\n",
      "Saved 82 games for team DET season 2023-24\n",
      "Saved 82 games for team CHA season 2023-24\n"
     ]
    },
    {
     "name": "stderr",
     "output_type": "stream",
     "text": [
      "Collecting team data: 100%|██████████████████████████████████████████████████████████████████████████████████| 2/2 [00:52<00:00, 26.29s/it]\n"
     ]
    }
   ],
   "source": [
    "# Collect and save team game logs for each team and season\n",
    "for season in tqdm(seasons, desc=\"Collecting team data\"):\n",
    "    for _, team in teams_df.iterrows():\n",
    "        team_games = get_team_game_logs(team['id'], season)\n",
    "        if team_games is not None:\n",
    "            team_games.to_csv(f'{data_dir}/team_games_{team[\"abbreviation\"]}_{season}.csv', index=False)\n",
    "            print(f\"Saved {len(team_games)} games for team {team['abbreviation']} season {season}\")\n",
    "        time.sleep(0.6)  # Rate limiting"
   ]
  },
  {
   "cell_type": "code",
   "execution_count": null,
   "id": "69ee24ef-d9d9-4cfa-8805-1e09af99c804",
   "metadata": {},
   "outputs": [],
   "source": []
  }
 ],
 "metadata": {
  "kernelspec": {
   "display_name": "Python 3 (ipykernel)",
   "language": "python",
   "name": "python3"
  },
  "language_info": {
   "codemirror_mode": {
    "name": "ipython",
    "version": 3
   },
   "file_extension": ".py",
   "mimetype": "text/x-python",
   "name": "python",
   "nbconvert_exporter": "python",
   "pygments_lexer": "ipython3",
   "version": "3.8.20"
  }
 },
 "nbformat": 4,
 "nbformat_minor": 5
}
