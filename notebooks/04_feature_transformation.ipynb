{
 "cells": [
  {
   "cell_type": "markdown",
   "metadata": {},
   "source": [
    "# NBA Game Feature Transformation\n",
    "\n",
    "This notebook focuses on transforming and normalizing our features for better model performance.\n"
   ]
  },
  {
   "cell_type": "markdown",
   "metadata": {},
   "source": [
    "## 1. Import Libraries\n",
    "Import all necessary libraries."
   ]
  },
  {
   "cell_type": "code",
   "execution_count": null,
   "metadata": {},
   "source": [
    "import pandas as pd\n",
    "import numpy as np\n",
    "from sklearn.preprocessing import StandardScaler\n",
    "from sklearn.impute import SimpleImputer\n",
    "import os\n",
    "from tqdm import tqdm\n",
    "\n",
    "pd.set_option('display.max_columns', None)\n",
    "pd.set_option('display.max_rows', 100)"
   ]
  },
  {
   "cell_type": "markdown",
   "metadata": {},
   "source": [
    "## 2. Load Engineered Data\n",
    "Load the engineered data from the previous step."
   ]
  },
  {
   "cell_type": "code",
   "execution_count": null,
   "metadata": {},
   "source": [
    "games_df = pd.read_csv('../data/engineered/engineered_games.csv')\n",
    "print(f'Loaded {len(games_df)} games')\n",
    "games_df.head()"
   ]
  },
  {
   "cell_type": "markdown",
   "metadata": {},
   "source": [
    "## 3. Handle Missing Values\n",
    "Fill missing values using SimpleImputer."
   ]
  },
  {
   "cell_type": "code",
   "execution_count": null,
   "metadata": {},
   "source": [
    "numeric_cols = games_df.select_dtypes(include=[np.number]).columns\n",
    "imputer = SimpleImputer(strategy='mean')\n",
    "games_df[numeric_cols] = imputer.fit_transform(games_df[numeric_cols])\n",
    "print('Missing values filled.')"
   ]
  },
  {
   "cell_type": "markdown",
   "metadata": {},
   "source": [
    "## 4. Remove Outliers\n",
    "Remove outliers using IQR method."
   ]
  },
  {
   "cell_type": "code",
   "execution_count": null,
   "metadata": {},
   "source": [
    "for col in numeric_cols:\n",
    "    Q1 = games_df[col].quantile(0.25)\n",
    "    Q3 = games_df[col].quantile(0.75)\n",
    "    IQR = Q3 - Q1\n",
    "    games_df = games_df[~((games_df[col] < (Q1 - 1.5 * IQR)) | (games_df[col] > (Q3 + 1.5 * IQR)))]\n",
    "print('Outliers removed.')"
   ]
  },
  {
   "cell_type": "markdown",
   "metadata": {},
   "source": [
    "## 5. Feature Scaling\n",
    "Scale features using StandardScaler."
   ]
  },
  {
   "cell_type": "code",
   "execution_count": null,
   "metadata": {},
   "source": [
    "scaler = StandardScaler()\n",
    "games_df[numeric_cols] = scaler.fit_transform(games_df[numeric_cols])\n",
    "print('Features scaled.')"
   ]
  },
  {
   "cell_type": "markdown",
   "metadata": {},
   "source": [
    "## 6. Save Transformed Data\n",
    "Save the transformed data for the next step."
   ]
  },
  {
   "cell_type": "code",
   "execution_count": null,
   "metadata": {},
   "source": [
    "games_df.to_csv('../data/transformed/transformed_games.csv', index=False)\n",
    "print('Transformed data saved to ../data/transformed/transformed_games.csv')"
   ]
  }
 ],
 "metadata": {
  "kernelspec": {
   "display_name": "Python 3",
   "language": "python",
   "name": "python3"
  },
  "language_info": {
   "codemirror_mode": {
    "name": "ipython",
    "version": 3
   },
   "file_extension": ".py",
   "mimetype": "text/x-python",
   "name": "python",
   "nbconvert_exporter": "python",
   "pygments_lexer": "ipython3",
   "version": "3.8.0"
  }
 },
 "nbformat": 4,
 "nbformat_minor": 4
}